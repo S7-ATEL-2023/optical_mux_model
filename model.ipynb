{
 "cells": [
  {
   "cell_type": "code",
   "execution_count": null,
   "metadata": {},
   "outputs": [],
   "source": [
    "from simphony.libraries import sipann, siepic\n",
    "from simphony.simulators import SweepSimulator\n",
    "\n",
    "import matplotlib.pyplot as plt\n",
    "import matplotlib.gridspec as gridspec"
   ]
  },
  {
   "cell_type": "markdown",
   "metadata": {},
   "source": [
    "Define ring factory function"
   ]
  },
  {
   "cell_type": "code",
   "execution_count": null,
   "metadata": {},
   "outputs": [],
   "source": [
    "def ring_factory(radius):\n",
    "\thalfring1 = sipann.HalfRing(500e-9, 220e-9, radius, 100e-9)\n",
    "\thalfring2 = sipann.HalfRing(500e-9, 220e-9, radius, 100e-9)\n",
    "\tterminator = siepic.Terminator()\n",
    "\n",
    "\thalfring1.rename_pins(\"pass\", \"midb\", \"in\", \"midt\")\n",
    "\thalfring2.rename_pins(\"out\", \"midt\", \"term\", \"midb\")\n",
    "\n",
    "\thalfring1.interface(halfring2)\n",
    "\thalfring2[\"term\"].connect(terminator)\n",
    "\n",
    "\treturn halfring1.circuit.to_subcircuit()"
   ]
  },
  {
   "cell_type": "markdown",
   "metadata": {},
   "source": [
    "Define add-drop circuit"
   ]
  },
  {
   "cell_type": "code",
   "execution_count": null,
   "metadata": {},
   "outputs": [],
   "source": [
    "wg_input = siepic.Waveguide(100e-6)\n",
    "wg_out = siepic.Waveguide(100e-6)\n",
    "terminator1 = siepic.Terminator()\n",
    "terminator2 = siepic.Terminator()\n",
    "ring1 = ring_factory(6e-6)\n",
    "ring2 = ring_factory(7e-6)\n",
    "\n",
    "ring1[\"in\"].connect(wg_input[\"pin2\"])\n",
    "ring1[\"pass\"].connect(terminator1)\n",
    "ring1[\"out\"].connect(ring2[\"in\"])\n",
    "ring2[\"pass\"].connect(terminator2)\n",
    "ring2[\"out\"].connect(wg_out)"
   ]
  },
  {
   "cell_type": "markdown",
   "metadata": {},
   "source": [
    "Simulate"
   ]
  },
  {
   "cell_type": "code",
   "execution_count": null,
   "metadata": {},
   "outputs": [],
   "source": [
    "fig = plt.figure(tight_layout=True)\n",
    "gs = gridspec.GridSpec(1, 3)\n",
    "ax = fig.add_subplot(gs[0, :2])\n",
    "\n",
    "simulator = SweepSimulator(1500e-9, 1600e-9)\n",
    "simulator.connect(wg_input)\n",
    "\n",
    "simulator.multiconnect(None, wg_out)\n",
    "wl, t = simulator.simulate()\n",
    "ax.plot(wl*1e9, t, lw=\"0.7\")\n",
    "\n",
    "ax.set_ylabel(\"Fractional Optical Power\")\n",
    "ax.set_xlabel(\"Wavelength (nm)\")\n",
    "\n",
    "plt.show()"
   ]
  }
 ],
 "metadata": {
  "kernelspec": {
   "display_name": "Python 3",
   "language": "python",
   "name": "python3"
  },
  "language_info": {
   "codemirror_mode": {
    "name": "ipython",
    "version": 3
   },
   "file_extension": ".py",
   "mimetype": "text/x-python",
   "name": "python",
   "nbconvert_exporter": "python",
   "pygments_lexer": "ipython3",
   "version": "3.8.10"
  }
 },
 "nbformat": 4,
 "nbformat_minor": 2
}
